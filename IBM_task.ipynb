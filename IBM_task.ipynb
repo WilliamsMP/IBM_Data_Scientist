{
  "nbformat": 4,
  "nbformat_minor": 0,
  "metadata": {
    "colab": {
      "name": "IBM_task.ipynb",
      "provenance": [],
      "collapsed_sections": []
    },
    "kernelspec": {
      "name": "python3",
      "display_name": "Python 3"
    },
    "language_info": {
      "name": "python"
    }
  },
  "cells": [
    {
      "cell_type": "markdown",
      "source": [
        "# My Jupyter Notebook on IBM Watson Studio"
      ],
      "metadata": {
        "id": "4dad7Vof_Sqz"
      }
    },
    {
      "cell_type": "markdown",
      "source": [
        "**Williams Juniors Martinez Perez**\n",
        "I want to be a data scientist"
      ],
      "metadata": {
        "id": "ISGi4toT_iJQ"
      }
    },
    {
      "cell_type": "markdown",
      "source": [
        "*I want to be a data scientist because I like to see and interpret what the data says*"
      ],
      "metadata": {
        "id": "rkeX6Xdv_ie3"
      }
    },
    {
      "cell_type": "markdown",
      "source": [
        "### function that takes as an argument the number of times the message is repeated"
      ],
      "metadata": {
        "id": "TaNNSHPlAU_e"
      }
    },
    {
      "cell_type": "code",
      "source": [
        "def text(rept):\n",
        "  for i in range(rept):\n",
        "    print('i cant use watson studio!!')\n",
        "\n",
        "text(5)"
      ],
      "metadata": {
        "colab": {
          "base_uri": "https://localhost:8080/"
        },
        "id": "r5hVNVPpAWII",
        "outputId": "ba2433fd-e372-4b19-f7c6-71abd14c9ed4"
      },
      "execution_count": 6,
      "outputs": [
        {
          "output_type": "stream",
          "name": "stdout",
          "text": [
            "i cant use watson studio!!\n",
            "i cant use watson studio!!\n",
            "i cant use watson studio!!\n",
            "i cant use watson studio!!\n",
            "i cant use watson studio!!\n"
          ]
        }
      ]
    },
    {
      "cell_type": "markdown",
      "source": [
        "1. one dog\n",
        "2. two cats\n",
        "1. three birds\n",
        "1. one dog\n",
        "2. two cats\n",
        "1. three birds"
      ],
      "metadata": {
        "id": "9rMnGFyeHolC"
      }
    }
  ]
}